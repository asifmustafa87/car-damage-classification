{
 "cells": [
  {
   "cell_type": "code",
   "execution_count": 2,
   "metadata": {
    "colab": {
     "base_uri": "https://localhost:8080/"
    },
    "executionInfo": {
     "elapsed": 21019,
     "status": "ok",
     "timestamp": 1660438783626,
     "user": {
      "displayName": "AMI TUM",
      "userId": "04490006745321330187"
     },
     "user_tz": -120
    },
    "id": "1yYq4pJM3_T9",
    "outputId": "69ab0469-ea69-4462-ec8c-9b2f4b1e210d",
    "pycharm": {
     "name": "#%%\n"
    }
   },
   "outputs": [],
   "source": [
    "from google.colab import drive\n",
    "import os\n",
    "drive.mount(\"/content/drive/\", force_remount = True)\n",
    "\n",
    "os.chdir(\"/content/drive/MyDrive/Theja\")"
   ]
  },
  {
   "cell_type": "code",
   "execution_count": null,
   "metadata": {
    "colab": {
     "base_uri": "https://localhost:8080/"
    },
    "executionInfo": {
     "elapsed": 30,
     "status": "ok",
     "timestamp": 1660438788610,
     "user": {
      "displayName": "AMI TUM",
      "userId": "04490006745321330187"
     },
     "user_tz": -120
    },
    "id": "KMQ93A2k4E2x",
    "outputId": "75cc0b90-0500-4f9a-d577-9e3cefa577f2",
    "pycharm": {
     "name": "#%%\n"
    }
   },
   "outputs": [
    {
     "name": "stdout",
     "output_type": "stream",
     "text": [
      "data  Ensemble.ipynb  FeatExtr.ipynb\n"
     ]
    }
   ],
   "source": [
    "!ls"
   ]
  },
  {
   "cell_type": "markdown",
   "metadata": {},
   "source": [
    "## Imports"
   ]
  },
  {
   "cell_type": "code",
   "execution_count": null,
   "metadata": {
    "id": "-Y7UrXRh4HAa",
    "pycharm": {
     "name": "#%%\n"
    }
   },
   "outputs": [],
   "source": [
    "# Imports\n",
    "import numpy as np\n",
    "import cv2\n",
    "import time\n",
    "import imutils\n",
    "from matplotlib import pyplot as plt\n",
    "import glob"
   ]
  },
  {
   "cell_type": "code",
   "execution_count": null,
   "metadata": {
    "id": "4H_4My8G4-Pb",
    "pycharm": {
     "name": "#%%\n"
    }
   },
   "outputs": [],
   "source": [
    "def image_preprocessing(path):  \n",
    "\n",
    "  img_bgr = cv2.imread(path)\n",
    "\n",
    "  # bgr to rgb\n",
    "  img_rgb = cv2.cvtColor(img_bgr, cv2.COLOR_BGR2RGB)\n",
    "\n",
    "  # Converting to grayscale\n",
    "  img_just_gray = cv2.cvtColor(img_rgb, cv2.COLOR_BGR2GRAY)\n",
    "\n",
    "  # Gaussian Blur\n",
    "  ksize_w = 13\n",
    "  ksize_h = 13\n",
    " \n",
    "  img_first_gb = cv2.GaussianBlur(img_rgb, (ksize_w, ksize_h), 0, 0, cv2.BORDER_REPLICATE);\n",
    "\n",
    "  # Dilate the image\n",
    "  dilated_img = cv2.dilate(img_first_gb, np.ones((11, 11), np.uint8))\n",
    "\n",
    "  # Converting to grayscale\n",
    "  img_gray_operated = cv2.cvtColor(dilated_img, cv2.COLOR_BGR2GRAY)\n",
    "\n",
    "  # closing:\n",
    "  kernel_closing = np.ones((7, 7),np.uint8)\n",
    "  img_closing = cv2.morphologyEx(img_gray_operated, cv2.MORPH_CLOSE, kernel_closing)\n",
    "\n",
    "  # dilation:\n",
    "  # add pixels to the boundaries of objects in an image\n",
    "  kernel_dilation = np.ones((3, 3),np.uint8)\n",
    "  img_dilation2 = cv2.dilate(img_closing, kernel_dilation, iterations = 1)\n",
    "\n",
    "  # Canny\n",
    "  edgesToFindImage = img_dilation2\n",
    "\n",
    "  v = np.median(img_just_gray)\n",
    "  #print(v)\n",
    "  sigma = 0.33\n",
    "  lower_thresh = int(max(0, (1.0 - sigma) * v))\n",
    "  higher_thresh = int(min(255, (1.0 + sigma) * v))\n",
    "\n",
    "  img_edges =  cv2.Canny(edgesToFindImage, lower_thresh, higher_thresh)\n",
    "\n",
    "  kernel_dilation2 = np.ones((2, 2),np.uint8)\n",
    "  img_dilation2 = cv2.dilate(img_edges, kernel_dilation, iterations = 2)\n",
    "  dim = (50, 50)\n",
    "  \n",
    "  # resize image\n",
    "  resized = cv2.resize(img_dilation2, dim, interpolation = cv2.INTER_AREA)\n",
    "\n",
    "  return resized"
   ]
  },
  {
   "cell_type": "code",
   "execution_count": null,
   "metadata": {
    "id": "0tMacmIu9J4P",
    "pycharm": {
     "name": "#%%\n"
    }
   },
   "outputs": [],
   "source": [
    "#scratch -0\n",
    "#dent - 1\n",
    "#rim_damage -2\n",
    "#other_defect - 3\n",
    "train_images = []\n",
    "train_labels = []"
   ]
  },
  {
   "cell_type": "code",
   "execution_count": null,
   "metadata": {
    "colab": {
     "base_uri": "https://localhost:8080/"
    },
    "executionInfo": {
     "elapsed": 7867,
     "status": "ok",
     "timestamp": 1660439201446,
     "user": {
      "displayName": "AMI TUM",
      "userId": "04490006745321330187"
     },
     "user_tz": -120
    },
    "id": "zIn1M1cL4BfP",
    "outputId": "24013b2b-8d26-4040-c10d-5fb905b396dd",
    "pycharm": {
     "name": "#%%\n"
    }
   },
   "outputs": [
    {
     "name": "stdout",
     "output_type": "stream",
     "text": [
      "519\n",
      "519\n"
     ]
    }
   ],
   "source": [
    "CLASSES = ['scratch','dent','rim_damage', 'other_defect']\n",
    "for damage in CLASSES:\n",
    "\n",
    "  for path in glob.iglob(f'data/train/{damage}/*'):\n",
    "    \n",
    "    image_new = image_preprocessing(path)\n",
    "    train_images.append(image_new)\n",
    "    train_labels.append(3)\n",
    "    \n",
    "print(len(train_images))\n",
    "print(len(train_labels))"
   ]
  },
  {
   "cell_type": "code",
   "execution_count": null,
   "metadata": {
    "id": "PwQO-qc26M9u",
    "pycharm": {
     "name": "#%%\n"
    }
   },
   "outputs": [],
   "source": [
    "for path in glob.iglob('data/train/other_defect/*'):\n",
    "  \n",
    "  image_new = image_preprocessing(path)\n",
    "  train_images.append(image_new)\n",
    "  train_labels.append(3)"
   ]
  },
  {
   "cell_type": "code",
   "execution_count": null,
   "metadata": {
    "colab": {
     "base_uri": "https://localhost:8080/"
    },
    "executionInfo": {
     "elapsed": 261,
     "status": "ok",
     "timestamp": 1660438878220,
     "user": {
      "displayName": "AMI TUM",
      "userId": "04490006745321330187"
     },
     "user_tz": -120
    },
    "id": "c-V2wwOl8hdk",
    "outputId": "727e5575-88cd-4f54-899e-7441c89f1a66",
    "pycharm": {
     "name": "#%%\n"
    }
   },
   "outputs": [
    {
     "name": "stdout",
     "output_type": "stream",
     "text": [
      "35\n",
      "35\n"
     ]
    }
   ],
   "source": [
    "print(len(train_images))\n",
    "print(len(train_labels))"
   ]
  },
  {
   "cell_type": "code",
   "execution_count": null,
   "metadata": {
    "colab": {
     "base_uri": "https://localhost:8080/"
    },
    "executionInfo": {
     "elapsed": 286,
     "status": "ok",
     "timestamp": 1657572717386,
     "user": {
      "displayName": "AMI TUM",
      "userId": "04490006745321330187"
     },
     "user_tz": -120
    },
    "id": "pma4_KWm9Y98",
    "outputId": "8ecacfe1-6347-49f9-b123-53aab0eb0e17",
    "pycharm": {
     "name": "#%%\n"
    }
   },
   "outputs": [
    {
     "name": "stdout",
     "output_type": "stream",
     "text": [
      "(519, 50, 50) (519,)\n"
     ]
    }
   ],
   "source": [
    "train_images = np.array(train_images)\n",
    "train_labels = np.array(train_labels)\n",
    "print(train_images.shape, train_labels.shape)"
   ]
  },
  {
   "cell_type": "code",
   "execution_count": null,
   "metadata": {
    "id": "BLF68619-YKv",
    "pycharm": {
     "name": "#%%\n"
    }
   },
   "outputs": [],
   "source": [
    "#scratch -0\n",
    "#dent - 1\n",
    "#rim_damage -2\n",
    "#other_defect - 3\n",
    "test_images = []\n",
    "test_labels = []"
   ]
  },
  {
   "cell_type": "code",
   "execution_count": null,
   "metadata": {
    "id": "CiGv0Z7b-RLt",
    "pycharm": {
     "name": "#%%\n"
    }
   },
   "outputs": [],
   "source": [
    "for path in glob.iglob('data/test/other_defect/*'):\n",
    "\n",
    "  image_new = image_preprocessing(path)\n",
    "  test_images.append(image_new)\n",
    "  test_labels.append(3)"
   ]
  },
  {
   "cell_type": "code",
   "execution_count": null,
   "metadata": {
    "colab": {
     "base_uri": "https://localhost:8080/"
    },
    "executionInfo": {
     "elapsed": 5,
     "status": "ok",
     "timestamp": 1657572764837,
     "user": {
      "displayName": "AMI TUM",
      "userId": "04490006745321330187"
     },
     "user_tz": -120
    },
    "id": "iZr5b3Kl-0Xn",
    "outputId": "5e3200a8-9dbe-4689-bbc2-dc841465515d",
    "pycharm": {
     "name": "#%%\n"
    }
   },
   "outputs": [
    {
     "name": "stdout",
     "output_type": "stream",
     "text": [
      "225\n",
      "225\n"
     ]
    }
   ],
   "source": [
    "print(len(test_images))\n",
    "print(len(test_labels))"
   ]
  },
  {
   "cell_type": "code",
   "execution_count": null,
   "metadata": {
    "colab": {
     "base_uri": "https://localhost:8080/"
    },
    "executionInfo": {
     "elapsed": 294,
     "status": "ok",
     "timestamp": 1657572768460,
     "user": {
      "displayName": "AMI TUM",
      "userId": "04490006745321330187"
     },
     "user_tz": -120
    },
    "id": "GZxbanZJ-ht8",
    "outputId": "0c956ab2-e52a-4741-a9fd-4ba98f9c5cf2",
    "pycharm": {
     "name": "#%%\n"
    }
   },
   "outputs": [
    {
     "name": "stdout",
     "output_type": "stream",
     "text": [
      "(225, 50, 50) (225,)\n"
     ]
    }
   ],
   "source": [
    "test_images = np.array(test_images)\n",
    "test_labels = np.array(test_labels)\n",
    "print(test_images.shape, test_labels.shape)"
   ]
  },
  {
   "cell_type": "code",
   "execution_count": null,
   "metadata": {
    "id": "7WPk98z5AVe4",
    "pycharm": {
     "name": "#%%\n"
    }
   },
   "outputs": [],
   "source": [
    "train_images = train_images.reshape(519,2500)\n",
    "test_images = test_images.reshape(225,2500)"
   ]
  },
  {
   "cell_type": "code",
   "execution_count": null,
   "metadata": {
    "id": "3oU_5FNh_D7u",
    "pycharm": {
     "name": "#%%\n"
    }
   },
   "outputs": [],
   "source": [
    "# compare standalone models for binary classification\n",
    "from numpy import mean\n",
    "from numpy import std\n",
    "\n",
    "from sklearn.model_selection import cross_val_score\n",
    "from sklearn.model_selection import RepeatedStratifiedKFold\n",
    "from sklearn.linear_model import LogisticRegression\n",
    "from sklearn.neighbors import KNeighborsClassifier\n",
    "from sklearn.tree import DecisionTreeClassifier\n",
    "from sklearn.neural_network import MLPClassifier\n",
    "from sklearn.svm import SVC\n",
    "from sklearn.naive_bayes import GaussianNB\n",
    "from matplotlib import pyplot"
   ]
  },
  {
   "cell_type": "code",
   "execution_count": null,
   "metadata": {
    "colab": {
     "base_uri": "https://localhost:8080/",
     "height": 352
    },
    "executionInfo": {
     "elapsed": 59023,
     "status": "ok",
     "timestamp": 1657572841902,
     "user": {
      "displayName": "AMI TUM",
      "userId": "04490006745321330187"
     },
     "user_tz": -120
    },
    "id": "NPCKH88Z_eRm",
    "outputId": "95206ac4-e1af-42b7-9e39-c2e67f096b96",
    "pycharm": {
     "name": "#%%\n"
    }
   },
   "outputs": [
    {
     "name": "stdout",
     "output_type": "stream",
     "text": [
      ">lr 0.512 (0.059)\n",
      ">knn 0.443 (0.053)\n",
      ">cart 0.511 (0.067)\n",
      ">svm 0.615 (0.035)\n",
      ">bayes 0.476 (0.088)\n"
     ]
    },
    {
     "data": {
      "image/png": "[encoded data removed]",
      "text/plain": [
       "<Figure size 432x288 with 1 Axes>"
      ]
     },
     "metadata": {},
     "output_type": "display_data"
    }
   ],
   "source": [
    "# get a list of models\n",
    "def get_models():\n",
    "\t'''\n",
    "\tCreates a dictionary of models to evaluate.\n",
    "\n",
    "\tReturns\n",
    "\t-------\n",
    "\tmodels: dictionary\n",
    "\t'''\n",
    "\n",
    "\tmodels = dict()\n",
    "\tmodels['lr'] = LogisticRegression()\n",
    "\tmodels['knn'] = KNeighborsClassifier()\n",
    "\tmodels['cart'] = DecisionTreeClassifier()\n",
    "\tmodels['svm'] = SVC()\n",
    "\tmodels['bayes'] = GaussianNB()\n",
    "\treturn models\n",
    "\n",
    "# evaluate a given model using cross-validation\n",
    "def evaluate_model(model, X, y):\n",
    "\t'''\n",
    "\tEvaluates a model with cross-validation.\n",
    "\n",
    "\tParameters\n",
    "\t----------\n",
    "\tmodel: model instance\n",
    "\n",
    "\tX: input features\n",
    "\n",
    "\ty: input labels\n",
    "\n",
    "\tReturns\n",
    "\t-------\n",
    "\tscores: float\n",
    "\t\tScores of the cross-validation.\n",
    "\t'''\n",
    "\n",
    "\tcv = RepeatedStratifiedKFold(n_splits=10, n_repeats=3, random_state=1)\n",
    "\tscores = cross_val_score(model, X, y, scoring='accuracy', cv=cv, n_jobs=-1, error_score='raise')\n",
    "\n",
    "\treturn scores\n",
    "\n",
    "# get the models to evaluate\n",
    "models = get_models()\n",
    "\n",
    "# evaluate the models and store results\n",
    "results, names = list(), list()\n",
    "\n",
    "for name, model in models.items():\n",
    "\t\n",
    "\tscores = evaluate_model(model, train_images, train_labels)\n",
    "\tresults.append(scores)\n",
    "\tnames.append(name)\n",
    "\tprint('>%s %.3f (%.3f)' % (name, mean(scores), std(scores)))\n",
    "\n",
    "# plot model performance for comparison\n",
    "pyplot.boxplot(results, labels=names, showmeans=True)\n",
    "pyplot.show()"
   ]
  },
  {
   "cell_type": "markdown",
   "metadata": {},
   "source": [
    "## Compare ensemble to each baseline classifier"
   ]
  },
  {
   "cell_type": "code",
   "execution_count": null,
   "metadata": {
    "colab": {
     "base_uri": "https://localhost:8080/",
     "height": 386
    },
    "executionInfo": {
     "elapsed": 1087889,
     "status": "ok",
     "timestamp": 1657574520069,
     "user": {
      "displayName": "AMI TUM",
      "userId": "04490006745321330187"
     },
     "user_tz": -120
    },
    "id": "pi_95t8H_uwF",
    "outputId": "90219f1f-331e-4f4d-e988-18674c1c4911",
    "pycharm": {
     "name": "#%%\n"
    }
   },
   "outputs": [
    {
     "name": "stdout",
     "output_type": "stream",
     "text": [
      ">mlp 0.547 (0.060)\n",
      ">lr 0.512 (0.059)\n",
      ">knn 0.443 (0.053)\n",
      ">cart 0.504 (0.059)\n",
      ">svm 0.615 (0.035)\n",
      ">bayes 0.476 (0.088)\n",
      ">stacking 0.598 (0.047)\n"
     ]
    },
    {
     "data": {
      "image/png": "[encoded data removed]",
      "text/plain": [
       "<Figure size 432x288 with 1 Axes>"
      ]
     },
     "metadata": {},
     "output_type": "display_data"
    }
   ],
   "source": [
    "from numpy import mean\n",
    "from numpy import std\n",
    "\n",
    "from sklearn.model_selection import cross_val_score\n",
    "from sklearn.model_selection import RepeatedStratifiedKFold\n",
    "from sklearn.neural_network import MLPClassifier\n",
    "from sklearn.linear_model import LogisticRegression\n",
    "from sklearn.neighbors import KNeighborsClassifier\n",
    "from sklearn.tree import DecisionTreeClassifier\n",
    "from sklearn.svm import SVC\n",
    "from sklearn.naive_bayes import GaussianNB\n",
    "from sklearn.ensemble import StackingClassifier\n",
    "from matplotlib import pyplot\n",
    " \n",
    "# get a stacking ensemble of models\n",
    "def get_stacking():\n",
    "\n",
    "  # define the base models\n",
    "  level0 = list()\n",
    "  level0.append(('mlp', MLPClassifier()))\n",
    "  level0.append(('lr', LogisticRegression()))\n",
    "  level0.append(('knn', KNeighborsClassifier()))\n",
    "  level0.append(('cart', DecisionTreeClassifier()))\n",
    "  level0.append(('svm', SVC()))\n",
    "  level0.append(('bayes', GaussianNB()))\n",
    "\n",
    "  # define meta learner model\n",
    "  level1 = LogisticRegression()\n",
    "\n",
    "  # define the stacking ensemble\n",
    "  model = StackingClassifier(estimators=level0, final_estimator=level1, cv=5)\n",
    "\n",
    "  return model\n",
    "\n",
    "# get a list of models to evaluate\n",
    "def get_models():\n",
    "\n",
    "  models = dict()\n",
    "  models['mlp'] = MLPClassifier()\n",
    "  models['lr'] = LogisticRegression()\n",
    "  models['knn'] = KNeighborsClassifier()\n",
    "  models['cart'] = DecisionTreeClassifier()\n",
    "  models['svm'] = SVC()\n",
    "  models['bayes'] = GaussianNB()\n",
    "  models['stacking'] = get_stacking()\n",
    "\n",
    "  return models\n",
    "\n",
    "# evaluate a give model using cross-validation\n",
    "def evaluate_model(model, X, y):\n",
    "\n",
    "\tcv = RepeatedStratifiedKFold(n_splits=10, n_repeats=3, random_state=1)\n",
    "\tscores = cross_val_score(model, X, y, scoring='accuracy', cv=cv, n_jobs=-1, error_score='raise')\n",
    "\n",
    "\treturn scores\n",
    " \n",
    "\n",
    "# get the models to evaluate\n",
    "models = get_models()\n",
    "\n",
    "# evaluate the models and store results\n",
    "results, names = list(), list()\n",
    "\n",
    "for name, model in models.items():\n",
    "\n",
    "\tscores = evaluate_model(model, train_images, train_labels)\n",
    "\tresults.append(scores)\n",
    "\tnames.append(name)\n",
    "\tprint('>%s %.3f (%.3f)' % (name, mean(scores), std(scores)))\n",
    "  \n",
    "# plot model performance for comparison\n",
    "pyplot.boxplot(results, labels=names, showmeans=True)\n",
    "pyplot.show()"
   ]
  },
  {
   "cell_type": "code",
   "execution_count": null,
   "metadata": {
    "id": "coBCew52Auu9",
    "pycharm": {
     "name": "#%%\n"
    }
   },
   "outputs": [],
   "source": [
    "import seaborn as sns \n",
    "import matplotlib.pyplot as plt\n",
    "plt.style.use('ggplot')\n",
    "from sklearn.metrics import roc_curve, auc\n",
    "from sklearn.metrics import classification_report, confusion_matrix, roc_auc_score\n",
    "from sklearn.model_selection import train_test_split\n",
    "from mlxtend.plotting import plot_confusion_matrix\n",
    "import matplotlib.cm as cm\n",
    "from matplotlib import rcParams"
   ]
  },
  {
   "cell_type": "markdown",
   "metadata": {},
   "source": [
    "## Making a prediction with a stacking ensemble"
   ]
  },
  {
   "cell_type": "code",
   "execution_count": null,
   "metadata": {
    "colab": {
     "base_uri": "https://localhost:8080/"
    },
    "executionInfo": {
     "elapsed": 60833,
     "status": "ok",
     "timestamp": 1657574662857,
     "user": {
      "displayName": "AMI TUM",
      "userId": "04490006745321330187"
     },
     "user_tz": -120
    },
    "id": "kvfz4iRjAw-G",
    "outputId": "85867791-068e-4b89-f4fb-305801e76c9d",
    "pycharm": {
     "name": "#%%\n"
    }
   },
   "outputs": [
    {
     "name": "stderr",
     "output_type": "stream",
     "text": [
      "/usr/local/lib/python3.7/dist-packages/sklearn/neural_network/_multilayer_perceptron.py:696: ConvergenceWarning: Stochastic Optimizer: Maximum iterations (200) reached and the optimization hasn't converged yet.\n",
      "  ConvergenceWarning,\n",
      "/usr/local/lib/python3.7/dist-packages/sklearn/linear_model/_logistic.py:818: ConvergenceWarning: lbfgs failed to converge (status=1):\n",
      "STOP: TOTAL NO. of ITERATIONS REACHED LIMIT.\n",
      "\n",
      "Increase the number of iterations (max_iter) or scale the data as shown in:\n",
      "    https://scikit-learn.org/stable/modules/preprocessing.html\n",
      "Please also refer to the documentation for alternative solver options:\n",
      "    https://scikit-learn.org/stable/modules/linear_model.html#logistic-regression\n",
      "  extra_warning_msg=_LOGISTIC_SOLVER_CONVERGENCE_MSG,\n",
      "/usr/local/lib/python3.7/dist-packages/sklearn/neural_network/_multilayer_perceptron.py:696: ConvergenceWarning: Stochastic Optimizer: Maximum iterations (200) reached and the optimization hasn't converged yet.\n",
      "  ConvergenceWarning,\n",
      "/usr/local/lib/python3.7/dist-packages/sklearn/neural_network/_multilayer_perceptron.py:696: ConvergenceWarning: Stochastic Optimizer: Maximum iterations (200) reached and the optimization hasn't converged yet.\n",
      "  ConvergenceWarning,\n",
      "/usr/local/lib/python3.7/dist-packages/sklearn/linear_model/_logistic.py:818: ConvergenceWarning: lbfgs failed to converge (status=1):\n",
      "STOP: TOTAL NO. of ITERATIONS REACHED LIMIT.\n",
      "\n",
      "Increase the number of iterations (max_iter) or scale the data as shown in:\n",
      "    https://scikit-learn.org/stable/modules/preprocessing.html\n",
      "Please also refer to the documentation for alternative solver options:\n",
      "    https://scikit-learn.org/stable/modules/linear_model.html#logistic-regression\n",
      "  extra_warning_msg=_LOGISTIC_SOLVER_CONVERGENCE_MSG,\n",
      "/usr/local/lib/python3.7/dist-packages/sklearn/linear_model/_logistic.py:818: ConvergenceWarning: lbfgs failed to converge (status=1):\n",
      "STOP: TOTAL NO. of ITERATIONS REACHED LIMIT.\n",
      "\n",
      "Increase the number of iterations (max_iter) or scale the data as shown in:\n",
      "    https://scikit-learn.org/stable/modules/preprocessing.html\n",
      "Please also refer to the documentation for alternative solver options:\n",
      "    https://scikit-learn.org/stable/modules/linear_model.html#logistic-regression\n",
      "  extra_warning_msg=_LOGISTIC_SOLVER_CONVERGENCE_MSG,\n",
      "/usr/local/lib/python3.7/dist-packages/sklearn/linear_model/_logistic.py:818: ConvergenceWarning: lbfgs failed to converge (status=1):\n",
      "STOP: TOTAL NO. of ITERATIONS REACHED LIMIT.\n",
      "\n",
      "Increase the number of iterations (max_iter) or scale the data as shown in:\n",
      "    https://scikit-learn.org/stable/modules/preprocessing.html\n",
      "Please also refer to the documentation for alternative solver options:\n",
      "    https://scikit-learn.org/stable/modules/linear_model.html#logistic-regression\n",
      "  extra_warning_msg=_LOGISTIC_SOLVER_CONVERGENCE_MSG,\n",
      "/usr/local/lib/python3.7/dist-packages/sklearn/linear_model/_logistic.py:818: ConvergenceWarning: lbfgs failed to converge (status=1):\n",
      "STOP: TOTAL NO. of ITERATIONS REACHED LIMIT.\n",
      "\n",
      "Increase the number of iterations (max_iter) or scale the data as shown in:\n",
      "    https://scikit-learn.org/stable/modules/preprocessing.html\n",
      "Please also refer to the documentation for alternative solver options:\n",
      "    https://scikit-learn.org/stable/modules/linear_model.html#logistic-regression\n",
      "  extra_warning_msg=_LOGISTIC_SOLVER_CONVERGENCE_MSG,\n",
      "/usr/local/lib/python3.7/dist-packages/sklearn/linear_model/_logistic.py:818: ConvergenceWarning: lbfgs failed to converge (status=1):\n",
      "STOP: TOTAL NO. of ITERATIONS REACHED LIMIT.\n",
      "\n",
      "Increase the number of iterations (max_iter) or scale the data as shown in:\n",
      "    https://scikit-learn.org/stable/modules/preprocessing.html\n",
      "Please also refer to the documentation for alternative solver options:\n",
      "    https://scikit-learn.org/stable/modules/linear_model.html#logistic-regression\n",
      "  extra_warning_msg=_LOGISTIC_SOLVER_CONVERGENCE_MSG,\n",
      "/usr/local/lib/python3.7/dist-packages/sklearn/neural_network/_multilayer_perceptron.py:696: ConvergenceWarning: Stochastic Optimizer: Maximum iterations (200) reached and the optimization hasn't converged yet.\n",
      "  ConvergenceWarning,\n"
     ]
    },
    {
     "data": {
      "text/plain": [
       "StackingClassifier(cv=5,\n",
       "                   estimators=[('mlp', MLPClassifier()),\n",
       "                               ('lr', LogisticRegression()),\n",
       "                               ('knn', KNeighborsClassifier()),\n",
       "                               ('cart', DecisionTreeClassifier()),\n",
       "                               ('svm', SVC()), ('bayes', GaussianNB())],\n",
       "                   final_estimator=MLPClassifier())"
      ]
     },
     "execution_count": 89,
     "metadata": {},
     "output_type": "execute_result"
    }
   ],
   "source": [
    "# make a prediction with a stacking ensemble\n",
    "from sklearn.datasets import make_classification\n",
    "from sklearn.ensemble import StackingClassifier\n",
    "from sklearn.linear_model import LogisticRegression\n",
    "from sklearn.neighbors import KNeighborsClassifier\n",
    "from sklearn.tree import DecisionTreeClassifier\n",
    "from sklearn.svm import SVC\n",
    "from sklearn.naive_bayes import GaussianNB\n",
    "from sklearn.neural_network import MLPClassifier\n",
    "\n",
    "# define the base models\n",
    "level0 = list()\n",
    "level0.append(('mlp', MLPClassifier()))\n",
    "level0.append(('lr', LogisticRegression()))\n",
    "level0.append(('knn', KNeighborsClassifier()))\n",
    "level0.append(('cart', DecisionTreeClassifier()))\n",
    "level0.append(('svm', SVC()))\n",
    "level0.append(('bayes', GaussianNB()))\n",
    "\n",
    "# define meta learner model\n",
    "level1 = MLPClassifier()\n",
    "\n",
    "# define the stacking ensemble\n",
    "model = StackingClassifier(estimators=level0, final_estimator=level1, cv=5)\n",
    "\n",
    "# fit the model on all available data\n",
    "model.fit(train_images, train_labels)"
   ]
  },
  {
   "cell_type": "markdown",
   "metadata": {},
   "source": [
    "## Predicting example"
   ]
  },
  {
   "cell_type": "code",
   "execution_count": null,
   "metadata": {
    "id": "_E9op57kA3wP",
    "pycharm": {
     "name": "#%%\n"
    }
   },
   "outputs": [],
   "source": [
    "y_pred_class = model.predict(test_images)"
   ]
  },
  {
   "cell_type": "code",
   "execution_count": null,
   "metadata": {
    "colab": {
     "base_uri": "https://localhost:8080/"
    },
    "executionInfo": {
     "elapsed": 5,
     "status": "ok",
     "timestamp": 1657574663264,
     "user": {
      "displayName": "AMI TUM",
      "userId": "04490006745321330187"
     },
     "user_tz": -120
    },
    "id": "0ED2gZyKBmN4",
    "outputId": "3a966f27-15ea-4b88-8421-8380d5dd5972",
    "pycharm": {
     "name": "#%%\n"
    }
   },
   "outputs": [
    {
     "name": "stdout",
     "output_type": "stream",
     "text": [
      "0.6355555555555555\n"
     ]
    }
   ],
   "source": [
    "from sklearn.metrics import accuracy_score\n",
    "print(accuracy_score(test_labels, y_pred_class))"
   ]
  },
  {
   "cell_type": "code",
   "execution_count": null,
   "metadata": {
    "colab": {
     "base_uri": "https://localhost:8080/",
     "height": 875
    },
    "executionInfo": {
     "elapsed": 427,
     "status": "ok",
     "timestamp": 1657574663688,
     "user": {
      "displayName": "AMI TUM",
      "userId": "04490006745321330187"
     },
     "user_tz": -120
    },
    "id": "pH9tKlhSA7_v",
    "outputId": "7f3d9d73-0efe-4174-c0a6-65e258634484",
    "pycharm": {
     "name": "#%%\n"
    }
   },
   "outputs": [
    {
     "name": "stdout",
     "output_type": "stream",
     "text": [
      "Classification Report\n",
      "              precision    recall  f1-score   support\n",
      "\n",
      "           0       0.52      0.80      0.63        82\n",
      "           1       0.57      0.21      0.31        61\n",
      "           2       0.90      0.94      0.92        67\n",
      "           3       0.25      0.07      0.11        15\n",
      "\n",
      "    accuracy                           0.64       225\n",
      "   macro avg       0.56      0.51      0.49       225\n",
      "weighted avg       0.63      0.64      0.59       225\n",
      "\n",
      "Confusion matrix\n",
      "[[66  9  5  2]\n",
      " [46 13  1  1]\n",
      " [ 4  0 63  0]\n",
      " [12  1  1  1]]\n"
     ]
    },
    {
     "data": {
      "image/png": "[encoded data removed]",
      "text/plain": [
       "<Figure size 720x720 with 2 Axes>"
      ]
     },
     "metadata": {},
     "output_type": "display_data"
    }
   ],
   "source": [
    "print('Classification Report')\n",
    "print(classification_report(test_labels, y_pred_class))\n",
    "print(\"Confusion matrix\")\n",
    "CR=confusion_matrix(test_labels, y_pred_class)\n",
    "\n",
    "fig, ax = plot_confusion_matrix(conf_mat=CR,figsize=(10, 10),\n",
    "                                show_absolute=True,\n",
    "                                show_normed=True,\n",
    "                                colorbar=True)\n",
    "plt.show()"
   ]
  }
 ],
 "metadata": {
  "colab": {
   "authorship_tag": "ABX9TyPHLdJIhb6NuEjaRQFi7r8o",
   "name": "Ensemble.ipynb",
   "provenance": []
  },
  "kernelspec": {
   "display_name": "Python 3.10.4 ('cake')",
   "language": "python",
   "name": "python3"
  },
  "language_info": {
   "codemirror_mode": {
    "name": "ipython",
    "version": 3
   },
   "file_extension": ".py",
   "mimetype": "text/x-python",
   "name": "python",
   "nbconvert_exporter": "python",
   "pygments_lexer": "ipython3",
   "version": "3.10.4"
  },
  "vscode": {
   "interpreter": {
    "hash": "76937b59bd0fc4063c9cd8909f3860f61eb6e9933917376da82e196e40d62f28"
   }
  }
 },
 "nbformat": 4,
 "nbformat_minor": 0
}
